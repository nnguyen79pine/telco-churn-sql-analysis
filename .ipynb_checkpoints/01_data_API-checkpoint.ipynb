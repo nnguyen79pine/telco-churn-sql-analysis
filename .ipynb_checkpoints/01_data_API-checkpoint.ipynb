{
 "cells": [
  {
   "cell_type": "markdown",
   "id": "8e90aa62-3d93-4b7b-b8e6-76a610410db6",
   "metadata": {},
   "source": [
    "#### Objectives¶\n",
    "- Collect job data using Jobs API\n",
    "- Store the collected data into an excel spreadsheet."
   ]
  },
  {
   "cell_type": "markdown",
   "id": "3d740135-5261-40c9-9dfb-23fb0413374f",
   "metadata": {},
   "source": [
    "#### Lab: Collect Jobs Data using Jobs API"
   ]
  },
  {
   "cell_type": "markdown",
   "id": "80173acf-a4aa-4ea4-bfd2-5de1b6efae5c",
   "metadata": {},
   "source": [
    "**Objective: Determine the number of jobs currently open for various technologies and for various locations**\n",
    "\n",
    "Collect the number of job postings for the following locations using the API:\n",
    "\n",
    "- Los Angeles\n",
    "- New York\n",
    "- San Francisco\n",
    "- Washington DC\n",
    "- Seattle\n",
    "- Austin\n",
    "- Detroit"
   ]
  },
  {
   "cell_type": "code",
   "execution_count": 7,
   "id": "6ec81259-8f63-48a4-953e-e8ff6a279237",
   "metadata": {},
   "outputs": [],
   "source": [
    "import pandas as pd\n",
    "import json"
   ]
  },
  {
   "cell_type": "code",
   "execution_count": 8,
   "id": "a46d583b-a287-4ac6-ad3a-33961a034034",
   "metadata": {},
   "outputs": [],
   "source": [
    "api_url=\"https://cf-courses-data.s3.us.cloud-object-storage.appdomain.cloud/IBM-DA0321EN-SkillsNetwork/labs/module%201/Accessing%20Data%20Using%20APIs/jobs.json\"\n",
    "# fetch the JSON data from the API\n",
    "response = requests.get(api_url)\n",
    "data = response.json()\n",
    "def get_number_of_jobs_T(technology):\n",
    "  \n",
    "    \n",
    "    # count how many job postings list the given technology in \"Key Skills\"\n",
    "    number_of_jobs = 0\n",
    "    for job in data:\n",
    "        if technology.lower() in str(job.get(\"Key Skills\", \"\")).lower():\n",
    "            number_of_jobs += 1\n",
    "\n",
    "    return technology,number_of_jobs\n"
   ]
  },
  {
   "cell_type": "code",
   "execution_count": 9,
   "id": "c31449ad-a643-4f8c-ae92-51d96a69b407",
   "metadata": {},
   "outputs": [
    {
     "name": "stdout",
     "output_type": "stream",
     "text": [
      "dict_keys(['Id', 'Job Title', 'Job Experience Required', 'Key Skills', 'Role Category', 'Location', 'Functional Area', 'Industry', 'Role'])\n"
     ]
    }
   ],
   "source": [
    "response = requests.get(api_url)\n",
    "data = response.json()\n",
    "print(data[0].keys())"
   ]
  },
  {
   "cell_type": "markdown",
   "id": "ba29ccca-5bb0-427c-b731-ce03887f8cb1",
   "metadata": {},
   "source": [
    "Calling the function for Python and checking if it works."
   ]
  },
  {
   "cell_type": "code",
   "execution_count": 10,
   "id": "d10c1438-32ae-4420-9906-6326f9b87d2d",
   "metadata": {},
   "outputs": [
    {
     "data": {
      "text/plain": [
       "('Python', 1173)"
      ]
     },
     "execution_count": 10,
     "metadata": {},
     "output_type": "execute_result"
    }
   ],
   "source": [
    "get_number_of_jobs_T(\"Python\")"
   ]
  },
  {
   "cell_type": "markdown",
   "id": "92ebd4e7-2652-4b0a-87b7-7c8e8fdb0d86",
   "metadata": {},
   "source": [
    "Write a function to find number of jobs in US for \"New York\""
   ]
  },
  {
   "cell_type": "code",
   "execution_count": 12,
   "id": "ad8bb839-bbae-40e6-b43a-ede8abe516b2",
   "metadata": {},
   "outputs": [],
   "source": [
    " def get_number_of_jobs_L(location):\n",
    "    number_of_jobs = 0\n",
    "    for job in data:\n",
    "        if location.lower() in str(job.get(\"Location\",\"\")).lower():\n",
    "            number_of_jobs += 1\n",
    "    return location,number_of_jobs"
   ]
  },
  {
   "cell_type": "code",
   "execution_count": 13,
   "id": "7a7599f0-8526-4180-ad41-7067f9d7d9ec",
   "metadata": {},
   "outputs": [
    {
     "data": {
      "text/plain": [
       "('New York', 3226)"
      ]
     },
     "execution_count": 13,
     "metadata": {},
     "output_type": "execute_result"
    }
   ],
   "source": [
    "get_number_of_jobs_L(\"New York\")"
   ]
  },
  {
   "cell_type": "markdown",
   "id": "6d05c3a7-fdb0-4800-bc50-b2d7bbc7f0b1",
   "metadata": {},
   "source": [
    "**Store the results in an excel file¶**"
   ]
  },
  {
   "cell_type": "markdown",
   "id": "606a3715-0496-4407-877a-aad5f9addbfa",
   "metadata": {},
   "source": [
    "Create a python list of all technologies for which I need to find the number of jobs postings"
   ]
  },
  {
   "cell_type": "code",
   "execution_count": 14,
   "id": "d3459f2a-a9a8-4f0e-bbc4-e7fed4434dd8",
   "metadata": {},
   "outputs": [],
   "source": [
    "technologies = [\"Python\",\"Java\",\"JavaScript\",\"C++\",\"C#\",\"Scala\",\"SQL\",\"Go\",\"Ruby\"]"
   ]
  },
  {
   "cell_type": "code",
   "execution_count": 16,
   "id": "44d988e7-c72d-43c4-8211-8c1d066f37b9",
   "metadata": {},
   "outputs": [
    {
     "name": "stdout",
     "output_type": "stream",
     "text": [
      "Requirement already satisfied: openpyxl in c:\\users\\user\\appdata\\local\\programs\\python\\python312\\lib\\site-packages (3.1.5)\n",
      "Requirement already satisfied: et-xmlfile in c:\\users\\user\\appdata\\local\\programs\\python\\python312\\lib\\site-packages (from openpyxl) (2.0.0)\n"
     ]
    }
   ],
   "source": [
    "!pip install openpyxl\n",
    "from openpyxl import Workbook\n",
    "import requests"
   ]
  },
  {
   "cell_type": "markdown",
   "id": "8fc20b3f-c1d8-4391-af46-c3257e37107b",
   "metadata": {},
   "source": [
    "Create a workbook and select the active worksheet"
   ]
  },
  {
   "cell_type": "code",
   "execution_count": 19,
   "id": "895c650c-c264-4225-af77-94265328c4ee",
   "metadata": {},
   "outputs": [],
   "source": [
    "wb = Workbook()\n",
    "ws = wb.active\n",
    "ws.title = \"Job Postings\"\n",
    "\n",
    "ws.append([\"Technology\", \"Job Postings\"])"
   ]
  },
  {
   "cell_type": "markdown",
   "id": "9d00fc31-45dd-4500-a3a1-dcd854401002",
   "metadata": {},
   "source": [
    "Find the number of jobs postings for each of the technology in the above list. Write the technology name and the number of jobs postings into the excel spreadsheet."
   ]
  },
  {
   "cell_type": "code",
   "execution_count": 20,
   "id": "be4ab50b-b211-4fcc-b993-bf94506f5279",
   "metadata": {},
   "outputs": [],
   "source": [
    "def get_number_of_jobs_L(location):\n",
    "    # count jobs matching the location\n",
    "    number_of_jobs = 0\n",
    "    for job in data:\n",
    "        if location.lower() in str(job.get(\"Location\", \"\")).lower():\n",
    "            number_of_jobs += 1\n",
    "\n",
    "    return location, number_of_jobs\n"
   ]
  },
  {
   "cell_type": "markdown",
   "id": "17034294-f976-4979-a720-6a4625b11a04",
   "metadata": {},
   "source": [
    "Save into an excel spreadsheet named job-postings.xlsx."
   ]
  },
  {
   "cell_type": "code",
   "execution_count": 21,
   "id": "fc6e6d2d-4e8b-4f4c-b3fe-4703f56b2f71",
   "metadata": {},
   "outputs": [
    {
     "name": "stdout",
     "output_type": "stream",
     "text": [
      "Excel file 'job-postings.xlsx' created successfully!\n"
     ]
    }
   ],
   "source": [
    "wb.save(\"job-postings.xlsx\")\n",
    "print(\"Excel file 'job-postings.xlsx' created successfully!\")"
   ]
  },
  {
   "cell_type": "markdown",
   "id": "0feef0ec-0571-4be6-904c-f8f920049646",
   "metadata": {},
   "source": [
    "Collect the number of job postings for the following languages using the API:\n",
    "\n",
    "- C\n",
    "- C#\n",
    "- C++\n",
    "- Java\n",
    "- JavaScript\n",
    "- Python\n",
    "- Scala\n",
    "- Oracle\n",
    "- SQL Server\n",
    "- MySQL Server\n",
    "- PostgreSQL\n",
    "- MongoDB"
   ]
  },
  {
   "cell_type": "code",
   "execution_count": 22,
   "id": "67ae0673-9093-4a00-ba95-a4213900596f",
   "metadata": {},
   "outputs": [
    {
     "name": "stdout",
     "output_type": "stream",
     "text": [
      "Excel file 'job_postings_2.xlsx' created successfully!\n"
     ]
    }
   ],
   "source": [
    "# List of technologies to check\n",
    "technologies = [\n",
    "    \"C\", \"C#\", \"C++\", \"Java\", \"JavaScript\", \"Python\",\n",
    "    \"Scala\", \"Oracle\", \"SQL Server\", \"MySQL Server\",\n",
    "    \"PostgreSQL\", \"MongoDB\"\n",
    "]\n",
    "\n",
    "# Create Excel workbook and sheet\n",
    "wb = Workbook()\n",
    "ws = wb.active\n",
    "ws.title = \"Job Postings\"\n",
    "\n",
    "# Add header row\n",
    "ws.append([\"Technology\", \"Job Postings\"])\n",
    "\n",
    "# Get job counts and write to Excel\n",
    "for tech in technologies:\n",
    "    tech_name, job_count = get_number_of_jobs_T(tech)\n",
    "    ws.append([tech_name, job_count])\n",
    "\n",
    "# Save Excel file\n",
    "wb.save(\"job_postings_2.xlsx\")\n",
    "print(\"Excel file 'job_postings_2.xlsx' created successfully!\")\n"
   ]
  },
  {
   "cell_type": "code",
   "execution_count": null,
   "id": "9cc6e32e-9bbe-48f7-bf5a-445797591ad5",
   "metadata": {},
   "outputs": [],
   "source": []
  },
  {
   "cell_type": "code",
   "execution_count": null,
   "id": "21ef8d42-9138-4ab0-a466-21e77a20f43e",
   "metadata": {},
   "outputs": [],
   "source": []
  }
 ],
 "metadata": {
  "kernelspec": {
   "display_name": "Python 3 (ipykernel)",
   "language": "python",
   "name": "python3"
  },
  "language_info": {
   "codemirror_mode": {
    "name": "ipython",
    "version": 3
   },
   "file_extension": ".py",
   "mimetype": "text/x-python",
   "name": "python",
   "nbconvert_exporter": "python",
   "pygments_lexer": "ipython3",
   "version": "3.12.5"
  }
 },
 "nbformat": 4,
 "nbformat_minor": 5
}
